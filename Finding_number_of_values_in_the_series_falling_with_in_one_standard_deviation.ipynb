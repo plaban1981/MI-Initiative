{
  "nbformat": 4,
  "nbformat_minor": 0,
  "metadata": {
    "colab": {
      "name": "Finding number of values in the series falling with in one standard deviation.ipynb",
      "version": "0.3.2",
      "provenance": [],
      "include_colab_link": true
    },
    "kernelspec": {
      "name": "python3",
      "display_name": "Python 3"
    }
  },
  "cells": [
    {
      "cell_type": "markdown",
      "metadata": {
        "id": "view-in-github",
        "colab_type": "text"
      },
      "source": [
        "<a href=\"https://colab.research.google.com/github/plaban1981/MI-Initiative/blob/master/Finding_number_of_values_in_the_series_falling_with_in_one_standard_deviation.ipynb\" target=\"_parent\"><img src=\"https://colab.research.google.com/assets/colab-badge.svg\" alt=\"Open In Colab\"/></a>"
      ]
    },
    {
      "cell_type": "markdown",
      "metadata": {
        "id": "4OjmE8_S5d4R",
        "colab_type": "text"
      },
      "source": [
        "How many values, in the below series, fall within one standard deviation of the mean?"
      ]
    },
    {
      "cell_type": "markdown",
      "metadata": {
        "id": "fkstzX8l5jDl",
        "colab_type": "text"
      },
      "source": [
        "In this question, you have to find the number of points that falls in the range within one standard deviation of the mean. So, you can first calculate the mean and the standard deviation of the given data. It comes out to be 181.25 and 64.65 respectively. Now, to calculate one standard deviation above means, you add the standard deviation to the mean once. So, when you add 64.65 (standard deviation) with 181.25 (mean), you approximately get 245, and to calculate one standard deviation below means, you subtract the standard deviation from the mean once. So, when you subtract 64.65 (standard deviation) from 181.25 (mean), you approximately get 117. Hence the range that we get is 117-245. Hence you need to count the numbers which are within this range. You have 11 numbers in this range, so your answer is 11"
      ]
    },
    {
      "cell_type": "code",
      "metadata": {
        "id": "X_XnnkQ33sRo",
        "colab_type": "code",
        "colab": {}
      },
      "source": [
        "import numpy as np\n",
        "sample = [180, 313, 101, 255, 202, 198, 109, 183, 181, 113, 171, 165, 318, 145, 131, 145, 226, 113, 268, 108]"
      ],
      "execution_count": 0,
      "outputs": []
    },
    {
      "cell_type": "code",
      "metadata": {
        "id": "vDaqNkpd5MVi",
        "colab_type": "code",
        "outputId": "4458f2a1-e7ad-4561-8f13-3f921bc9162f",
        "colab": {
          "base_uri": "https://localhost:8080/",
          "height": 34
        }
      },
      "source": [
        "np.mean(sample)"
      ],
      "execution_count": 0,
      "outputs": [
        {
          "output_type": "execute_result",
          "data": {
            "text/plain": [
              "181.25"
            ]
          },
          "metadata": {
            "tags": []
          },
          "execution_count": 7
        }
      ]
    },
    {
      "cell_type": "code",
      "metadata": {
        "id": "nmCcMfy23yTh",
        "colab_type": "code",
        "outputId": "dd55e0d9-5f2a-46b9-c10a-71c2556635cc",
        "colab": {
          "base_uri": "https://localhost:8080/",
          "height": 34
        }
      },
      "source": [
        "np.std(sample)"
      ],
      "execution_count": 0,
      "outputs": [
        {
          "output_type": "execute_result",
          "data": {
            "text/plain": [
              "64.65514287355647"
            ]
          },
          "metadata": {
            "tags": []
          },
          "execution_count": 2
        }
      ]
    },
    {
      "cell_type": "markdown",
      "metadata": {
        "id": "sE5nPMl05uKr",
        "colab_type": "text"
      },
      "source": [
        "## First standard deviation"
      ]
    },
    {
      "cell_type": "code",
      "metadata": {
        "id": "iOqDkIU75x7r",
        "colab_type": "code",
        "colab": {}
      },
      "source": [
        "upp_range  = np.mean(sample) + np.std(sample)\n",
        "low_range = np.mean(sample) - np.std(sample)"
      ],
      "execution_count": 0,
      "outputs": []
    },
    {
      "cell_type": "code",
      "metadata": {
        "id": "8rFF2BjJ5-Sp",
        "colab_type": "code",
        "outputId": "04670271-3beb-48b6-c639-42d51b04aa28",
        "colab": {
          "base_uri": "https://localhost:8080/",
          "height": 34
        }
      },
      "source": [
        "count = 0\n",
        "for i in sample:\n",
        "  if i >= low_range and i <= upp_range:\n",
        "    count +=1\n",
        "print(count)"
      ],
      "execution_count": 0,
      "outputs": [
        {
          "output_type": "stream",
          "text": [
            "11\n"
          ],
          "name": "stdout"
        }
      ]
    },
    {
      "cell_type": "code",
      "metadata": {
        "id": "6DgNRPl36gFe",
        "colab_type": "code",
        "colab": {}
      },
      "source": [
        ""
      ],
      "execution_count": 0,
      "outputs": []
    },
    {
      "cell_type": "markdown",
      "metadata": {
        "id": "wFvI6lnv6c1B",
        "colab_type": "text"
      },
      "source": [
        "## Hence there are 11 values, in the above  series, fall within one standard deviation of the mean"
      ]
    }
  ]
}